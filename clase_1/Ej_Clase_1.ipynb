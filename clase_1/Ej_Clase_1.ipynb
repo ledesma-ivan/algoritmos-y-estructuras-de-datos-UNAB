{
  "cells": [
    {
      "cell_type": "markdown",
      "metadata": {
        "pycharm": {
          "metadata": false,
          "name": "#%% md\n"
        },
        "id": "bgNTAy5mMqWG"
      },
      "source": [
        "# Ejercicios Clase 1 -"
      ]
    },
    {
      "cell_type": "markdown",
      "metadata": {
        "pycharm": {
          "metadata": false,
          "name": "#%% md\n"
        },
        "id": "3bnQQ682MqWH"
      },
      "source": [
        "## Modules"
      ]
    },
    {
      "cell_type": "code",
      "execution_count": null,
      "metadata": {
        "pycharm": {
          "is_executing": false,
          "metadata": false,
          "name": "#%%\n"
        },
        "id": "gS0LTkc7MqWI"
      },
      "outputs": [],
      "source": [
        "import random\n",
        "import numpy as np"
      ]
    },
    {
      "cell_type": "markdown",
      "metadata": {
        "pycharm": {},
        "id": "HxkqejBkMqWJ"
      },
      "source": [
        "## Ejercicios"
      ]
    },
    {
      "cell_type": "markdown",
      "metadata": {
        "pycharm": {
          "metadata": false,
          "name": "#%% md\n"
        },
        "id": "gdo0RHwsMqWJ"
      },
      "source": [
        "### Ej. 1:\n",
        "\n",
        "Qué parametros debemos pasarle al contructor `range`, para producir los valores 8, 6, 4, 2, 0, -2, -4, -6, -8?"
      ]
    },
    {
      "cell_type": "code",
      "execution_count": null,
      "metadata": {
        "id": "Fznuxxt_MqWK"
      },
      "outputs": [],
      "source": []
    },
    {
      "cell_type": "markdown",
      "metadata": {
        "pycharm": {},
        "id": "myMcb0kYMqWK"
      },
      "source": [
        "### Ej. 2:\n",
        "\n",
        "Generarar por comprención la siguiente lista [1, 2, 4, 8, 16, 32, 64, 128, 256]."
      ]
    },
    {
      "cell_type": "code",
      "execution_count": null,
      "metadata": {
        "id": "YxUdBaWOMqWL"
      },
      "outputs": [],
      "source": []
    },
    {
      "cell_type": "markdown",
      "metadata": {
        "pycharm": {},
        "id": "baYCtQ2CMqWL"
      },
      "source": [
        "### Ej. 3:\n",
        "\n",
        "\n",
        "Generarar por comprención la siguiente lista `[0, 2, 6, 12, 20, 30, 42, 56, 72, 90]`.\n",
        "\n",
        "La serie que genera dicha lista es:\n",
        "\n",
        "$ a_n = a_1 + \\displaystyle \\sum_{n=1}^{n-1} 2n$, donde $n >= 2$ y $a_1 = 0$"
      ]
    },
    {
      "cell_type": "code",
      "execution_count": null,
      "metadata": {
        "id": "ZGaihYNcMqWM"
      },
      "outputs": [],
      "source": []
    },
    {
      "cell_type": "markdown",
      "metadata": {
        "pycharm": {
          "metadata": false,
          "name": "#%% md\n"
        },
        "id": "WWMSxXoMMqWM"
      },
      "source": [
        "### Ej. 4:\n",
        "\n",
        "Escribir un programa, que tome como entrada un *string* del usuario, el cuál debe ser impreso por pantalla en orden reverso. El programa también debe imprimir la palabra \"Bingo!\", si el string ingresado es *palíndromo*."
      ]
    },
    {
      "cell_type": "code",
      "execution_count": null,
      "metadata": {
        "id": "K0mcFTUVMqWM"
      },
      "outputs": [],
      "source": []
    },
    {
      "cell_type": "markdown",
      "metadata": {
        "id": "oFA2iXLJMqWM"
      },
      "source": [
        "### Ej. 5:\n",
        "\n",
        "El siguiente código, tener un lista *mess* creada aleatoriamente. Escribir un programa que ordene la lista. **Nota: NO utilizar las funciones provistas por Python**.  "
      ]
    },
    {
      "cell_type": "code",
      "execution_count": null,
      "metadata": {
        "id": "u2a05oPVMqWN"
      },
      "outputs": [],
      "source": [
        "#---------------Code---------------------#\n",
        "import random\n",
        "\n",
        "mess=[]\n",
        "N=1000\n",
        "for p in range(0,N):\n",
        "    mess.append(random.randrange(0,100000))\n",
        "S=0\n",
        "#----------------------------------------#"
      ]
    },
    {
      "cell_type": "code",
      "execution_count": null,
      "metadata": {
        "id": "dDrDeuoXMqWN"
      },
      "outputs": [],
      "source": []
    },
    {
      "cell_type": "markdown",
      "metadata": {
        "id": "YKaB7q82MqWN"
      },
      "source": [
        "### Ej. 6:\n",
        "\n",
        "Escribir un programa que dada una frase (en forma de string) retorne la misma frase, pero con la puntuación removida. Ejemplo: dada la frase *'Hola, buen día.'*, el resultado debe ser *'Hola buen dia'*.\n"
      ]
    },
    {
      "cell_type": "code",
      "execution_count": null,
      "metadata": {
        "id": "HpJyL-LjMqWN"
      },
      "outputs": [],
      "source": []
    },
    {
      "cell_type": "markdown",
      "metadata": {
        "id": "GV2lqUMeMqWN"
      },
      "source": [
        "### Ej. 7:\n",
        "\n",
        "Escribir un programa que tome un número entero `n` y calcule la suma de todos cuadrados de los números menores que `n`."
      ]
    },
    {
      "cell_type": "code",
      "execution_count": null,
      "metadata": {
        "id": "cu95TA33MqWO"
      },
      "outputs": [],
      "source": []
    }
  ],
  "metadata": {
    "kernelspec": {
      "display_name": "Python 3",
      "language": "python",
      "name": "python3"
    },
    "language_info": {
      "codemirror_mode": {
        "name": "ipython",
        "version": 3
      },
      "file_extension": ".py",
      "mimetype": "text/x-python",
      "name": "python",
      "nbconvert_exporter": "python",
      "pygments_lexer": "ipython3",
      "version": "3.8.3"
    },
    "pycharm": {
      "stem_cell": {
        "cell_type": "raw",
        "metadata": {
          "collapsed": false
        },
        "source": []
      }
    },
    "stem_cell": {
      "cell_type": "raw",
      "metadata": {
        "pycharm": {
          "metadata": false
        }
      },
      "source": ""
    },
    "colab": {
      "provenance": []
    }
  },
  "nbformat": 4,
  "nbformat_minor": 0
}