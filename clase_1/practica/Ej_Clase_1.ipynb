{
  "cells": [
    {
      "cell_type": "markdown",
      "metadata": {
        "id": "bgNTAy5mMqWG",
        "pycharm": {
          "metadata": false,
          "name": "#%% md\n"
        }
      },
      "source": [
        "# Ejercicios Clase 1 -"
      ]
    },
    {
      "cell_type": "markdown",
      "metadata": {
        "id": "3bnQQ682MqWH",
        "pycharm": {
          "metadata": false,
          "name": "#%% md\n"
        }
      },
      "source": [
        "## Modules"
      ]
    },
    {
      "cell_type": "code",
      "execution_count": 148,
      "metadata": {
        "id": "gS0LTkc7MqWI",
        "pycharm": {
          "is_executing": false,
          "metadata": false,
          "name": "#%%\n"
        }
      },
      "outputs": [],
      "source": [
        "import random\n",
        "import numpy as np"
      ]
    },
    {
      "cell_type": "markdown",
      "metadata": {
        "id": "HxkqejBkMqWJ",
        "pycharm": {}
      },
      "source": [
        "## Ejercicios"
      ]
    },
    {
      "cell_type": "markdown",
      "metadata": {
        "id": "gdo0RHwsMqWJ",
        "pycharm": {
          "metadata": false,
          "name": "#%% md\n"
        }
      },
      "source": [
        "### Ej. 1:\n",
        "\n",
        "Qué parametros debemos pasarle al contructor `range`, para producir los valores 8, 6, 4, 2, 0, -2, -4, -6, -8?"
      ]
    },
    {
      "cell_type": "code",
      "execution_count": 149,
      "metadata": {
        "id": "Fznuxxt_MqWK"
      },
      "outputs": [
        {
          "name": "stdout",
          "output_type": "stream",
          "text": [
            "8\n",
            "6\n",
            "4\n",
            "2\n",
            "0\n",
            "-2\n",
            "-4\n",
            "-6\n",
            "-8\n"
          ]
        }
      ],
      "source": [
        "# (Inicio, Fin, Pasos)\n",
        "for i in range(8, -10, -2):\n",
        "    print(i)"
      ]
    },
    {
      "cell_type": "markdown",
      "metadata": {
        "id": "myMcb0kYMqWK",
        "pycharm": {}
      },
      "source": [
        "### Ej. 2:\n",
        "\n",
        "Generarar por comprención la siguiente lista [1, 2, 4, 8, 16, 32, 64, 128, 256]."
      ]
    },
    {
      "cell_type": "code",
      "execution_count": 150,
      "metadata": {
        "id": "YxUdBaWOMqWL"
      },
      "outputs": [
        {
          "name": "stdout",
          "output_type": "stream",
          "text": [
            "[1, 2, 4, 8, 16, 32, 64, 128, 256]\n"
          ]
        }
      ],
      "source": [
        "# [ expresión for elemento in iterable if condición ]\n",
        "\n",
        "numeros_elevados_x = [2 ** x for x in range(9)]\n",
        "print(numeros_elevados_x) \n",
        "\n",
        "# No es lo mismo x ** 2 que 2 ** x que vendria a hacer los numeros del bucle for xD\n"
      ]
    },
    {
      "cell_type": "markdown",
      "metadata": {
        "id": "baYCtQ2CMqWL",
        "pycharm": {}
      },
      "source": [
        "### Ej. 3:\n",
        "\n",
        "\n",
        "Generarar por comprención la siguiente lista `[0, 2, 6, 12, 20, 30, 42, 56, 72, 90]`.\n",
        "\n",
        "La serie que genera dicha lista es:\n",
        "\n",
        "$ a_n = a_1 + \\displaystyle \\sum_{n=1}^{n-1} 2n$, donde $n >= 2$ y $a_1 = 0$"
      ]
    },
    {
      "cell_type": "code",
      "execution_count": 154,
      "metadata": {},
      "outputs": [
        {
          "name": "stdout",
          "output_type": "stream",
          "text": [
            "[0, 2, 6, 12, 20, 30, 42, 56, 72, 90]\n"
          ]
        }
      ],
      "source": [
        "# Cada número n del 1 al 10 se multiplica por su anterior, es decir, n * (n-1) \n",
        "serie_acumulativa = [n * (n-1) for n in range(1, 11)]\n",
        "print(serie_acumulativa)\n"
      ]
    },
    {
      "cell_type": "markdown",
      "metadata": {
        "id": "WWMSxXoMMqWM",
        "pycharm": {
          "metadata": false,
          "name": "#%% md\n"
        }
      },
      "source": [
        "### Ej. 4:\n",
        "\n",
        "Escribir un programa, que tome como entrada un *string* del usuario, el cuál debe ser impreso por pantalla en orden reverso. El programa también debe imprimir la palabra \"Bingo!\", si el string ingresado es *palíndromo*."
      ]
    },
    {
      "cell_type": "code",
      "execution_count": null,
      "metadata": {
        "id": "K0mcFTUVMqWM"
      },
      "outputs": [],
      "source": [
        "palabra = input('Ingrese una palabra: ').lower().replace(\" \", \"\") # Para manejos de errores.\n",
        "texto_reverso = palabra[::-1] # Invertimos la palabra osea alreves.\n",
        "if palabra == texto_reverso:\n",
        "    print('Bingo!')"
      ]
    },
    {
      "cell_type": "markdown",
      "metadata": {
        "id": "oFA2iXLJMqWM"
      },
      "source": [
        "### Ej. 5:\n",
        "\n",
        "El siguiente código, tener un lista *mess* creada aleatoriamente. Escribir un programa que ordene la lista. **Nota: NO utilizar las funciones provistas por Python**.  "
      ]
    },
    {
      "cell_type": "code",
      "execution_count": 152,
      "metadata": {
        "id": "u2a05oPVMqWN"
      },
      "outputs": [],
      "source": [
        "#---------------Code---------------------#\n",
        "import random\n",
        "\n",
        "mess=[]\n",
        "N=1000\n",
        "for p in range(0,N):\n",
        "    mess.append(random.randrange(0,100000))\n",
        "S=0\n",
        "#----------------------------------------#"
      ]
    },
    {
      "cell_type": "code",
      "execution_count": null,
      "metadata": {
        "id": "dDrDeuoXMqWN"
      },
      "outputs": [],
      "source": []
    },
    {
      "cell_type": "markdown",
      "metadata": {
        "id": "YKaB7q82MqWN"
      },
      "source": [
        "### Ej. 6:\n",
        "\n",
        "Escribir un programa que dada una frase (en forma de string) retorne la misma frase, pero con la puntuación removida. Ejemplo: dada la frase *'Hola, buen día.'*, el resultado debe ser *'Hola buen dia'*.\n"
      ]
    },
    {
      "cell_type": "code",
      "execution_count": null,
      "metadata": {
        "id": "HpJyL-LjMqWN"
      },
      "outputs": [],
      "source": [
        "import string\n",
        "\n",
        "frase = input('Ingrese una frase: ')\n",
        "\n",
        "nueva_frase = ''\n",
        "\n",
        "for caracter in frase:\n",
        "    if caracter not in string.punctuation:\n",
        "        nueva_frase += caracter\n",
        "        \n",
        "print(nueva_frase)"
      ]
    },
    {
      "cell_type": "markdown",
      "metadata": {
        "id": "GV2lqUMeMqWN"
      },
      "source": [
        "### Ej. 7:\n",
        "\n",
        "Escribir un programa que tome un número entero `n` y calcule la suma de todos cuadrados de los números menores que `n`."
      ]
    },
    {
      "cell_type": "code",
      "execution_count": null,
      "metadata": {
        "id": "cu95TA33MqWO"
      },
      "outputs": [],
      "source": []
    }
  ],
  "metadata": {
    "colab": {
      "provenance": []
    },
    "kernelspec": {
      "display_name": "base",
      "language": "python",
      "name": "python3"
    },
    "language_info": {
      "codemirror_mode": {
        "name": "ipython",
        "version": 3
      },
      "file_extension": ".py",
      "mimetype": "text/x-python",
      "name": "python",
      "nbconvert_exporter": "python",
      "pygments_lexer": "ipython3",
      "version": "3.11.13"
    },
    "pycharm": {
      "stem_cell": {
        "cell_type": "raw",
        "metadata": {
          "collapsed": false
        },
        "source": []
      }
    },
    "stem_cell": {
      "cell_type": "raw",
      "metadata": {
        "pycharm": {
          "metadata": false
        }
      },
      "source": ""
    }
  },
  "nbformat": 4,
  "nbformat_minor": 0
}
