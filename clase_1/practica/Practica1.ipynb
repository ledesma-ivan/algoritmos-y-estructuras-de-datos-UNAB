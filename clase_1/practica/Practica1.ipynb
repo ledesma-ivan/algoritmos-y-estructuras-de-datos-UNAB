{
 "cells": [
  {
   "cell_type": "markdown",
   "metadata": {
    "id": "3QuW36Ro5sye"
   },
   "source": [
    "#  Ejercicios - Clase 1 -\n"
   ]
  },
  {
   "cell_type": "markdown",
   "metadata": {
    "id": "rBo34-XR5syj"
   },
   "source": [
    "## Ejercicio 1\n",
    "\n",
    "Escribir un programa, que tome como entrada un *string* del usuario, el cuál debe ser impreso por pantalla en orden reverso. El programa también debe imprimir la palabra \"Bingo!\", si el string ingresado es *palíndromo*."
   ]
  },
  {
   "cell_type": "code",
   "execution_count": 1,
   "metadata": {
    "id": "m8eYkVup5syk"
   },
   "outputs": [],
   "source": [
    "palabra = input('Ingrese una palabra: ')\n",
    "palabra_inversa = palabra[::-1]\n",
    "if palabra == palabra_inversa:\n",
    "    print('Bingo!')"
   ]
  },
  {
   "cell_type": "markdown",
   "metadata": {
    "id": "TNJVW3w05syl"
   },
   "source": [
    "## Ejercicio 2\n",
    "\n",
    "Escribir un algoritmo que muestrre por pantalla las tablas de multiplicacion, desde el 1 hasta el 9.\n"
   ]
  },
  {
   "cell_type": "code",
   "execution_count": 11,
   "metadata": {
    "collapsed": true,
    "id": "zghLMORv5syl"
   },
   "outputs": [
    {
     "name": "stdout",
     "output_type": "stream",
     "text": [
      "La tabla del: 1\n",
      "1 x 1: 1\n",
      "1 x 2: 2\n",
      "1 x 3: 3\n",
      "1 x 4: 4\n",
      "1 x 5: 5\n",
      "1 x 6: 6\n",
      "1 x 7: 7\n",
      "1 x 8: 8\n",
      "1 x 9: 9\n",
      "La tabla del: 2\n",
      "2 x 1: 2\n",
      "2 x 2: 4\n",
      "2 x 3: 6\n",
      "2 x 4: 8\n",
      "2 x 5: 10\n",
      "2 x 6: 12\n",
      "2 x 7: 14\n",
      "2 x 8: 16\n",
      "2 x 9: 18\n",
      "La tabla del: 3\n",
      "3 x 1: 3\n",
      "3 x 2: 6\n",
      "3 x 3: 9\n",
      "3 x 4: 12\n",
      "3 x 5: 15\n",
      "3 x 6: 18\n",
      "3 x 7: 21\n",
      "3 x 8: 24\n",
      "3 x 9: 27\n",
      "La tabla del: 4\n",
      "4 x 1: 4\n",
      "4 x 2: 8\n",
      "4 x 3: 12\n",
      "4 x 4: 16\n",
      "4 x 5: 20\n",
      "4 x 6: 24\n",
      "4 x 7: 28\n",
      "4 x 8: 32\n",
      "4 x 9: 36\n",
      "La tabla del: 5\n",
      "5 x 1: 5\n",
      "5 x 2: 10\n",
      "5 x 3: 15\n",
      "5 x 4: 20\n",
      "5 x 5: 25\n",
      "5 x 6: 30\n",
      "5 x 7: 35\n",
      "5 x 8: 40\n",
      "5 x 9: 45\n",
      "La tabla del: 6\n",
      "6 x 1: 6\n",
      "6 x 2: 12\n",
      "6 x 3: 18\n",
      "6 x 4: 24\n",
      "6 x 5: 30\n",
      "6 x 6: 36\n",
      "6 x 7: 42\n",
      "6 x 8: 48\n",
      "6 x 9: 54\n",
      "La tabla del: 7\n",
      "7 x 1: 7\n",
      "7 x 2: 14\n",
      "7 x 3: 21\n",
      "7 x 4: 28\n",
      "7 x 5: 35\n",
      "7 x 6: 42\n",
      "7 x 7: 49\n",
      "7 x 8: 56\n",
      "7 x 9: 63\n",
      "La tabla del: 8\n",
      "8 x 1: 8\n",
      "8 x 2: 16\n",
      "8 x 3: 24\n",
      "8 x 4: 32\n",
      "8 x 5: 40\n",
      "8 x 6: 48\n",
      "8 x 7: 56\n",
      "8 x 8: 64\n",
      "8 x 9: 72\n",
      "La tabla del: 9\n",
      "9 x 1: 9\n",
      "9 x 2: 18\n",
      "9 x 3: 27\n",
      "9 x 4: 36\n",
      "9 x 5: 45\n",
      "9 x 6: 54\n",
      "9 x 7: 63\n",
      "9 x 8: 72\n",
      "9 x 9: 81\n"
     ]
    }
   ],
   "source": [
    "for i in range(1,10):\n",
    "    print(f\"La tabla del: {i}\")\n",
    "    for x in range(1, 10):\n",
    "        multiplicacion = i * x\n",
    "        print(f\"{i} x {x}: {multiplicacion}\")"
   ]
  },
  {
   "cell_type": "markdown",
   "metadata": {
    "id": "2r2utdZ55sym"
   },
   "source": [
    "## Ejercicio 3\n",
    "\n",
    "Dado un número de $2n + 1$ cifras, chequear si el mismo es palíndromo (capicúa).\n"
   ]
  },
  {
   "cell_type": "code",
   "execution_count": 5,
   "metadata": {
    "id": "e7IlfJf85sym"
   },
   "outputs": [
    {
     "name": "stdout",
     "output_type": "stream",
     "text": [
      "No es palindromo\n"
     ]
    }
   ],
   "source": [
    "numero = input('Ingrese un numero: ')\n",
    "numero_inverso = numero[::-1]\n",
    "longitud = len(numero)\n",
    "\n",
    "if longitud % 2 == 1:\n",
    "    if numero == numero_inverso:\n",
    "        print('Palindromo')\n",
    "    else:\n",
    "        print('No es palindromo')\n",
    "else:\n",
    "    print(\"El número no tiene 2n+1 cifras\")"
   ]
  },
  {
   "cell_type": "markdown",
   "metadata": {
    "collapsed": true,
    "id": "miUEKuUO5syn"
   },
   "source": [
    "## Ejercicio 4\n",
    "\n",
    "Diseñar un algoritmo que calcule la media de una serie de números positivos entrados por teclado. El ingreso de un valor igual a cero indicará el final del ingreso de datos.\n"
   ]
  },
  {
   "cell_type": "code",
   "execution_count": null,
   "metadata": {
    "id": "HxbOUGB25syn"
   },
   "outputs": [
    {
     "name": "stdout",
     "output_type": "stream",
     "text": [
      "2.5\n"
     ]
    }
   ],
   "source": [
    "lista = []\n",
    "while numero != 0:\n",
    "    numero = int(input('Ingrese un numero, escribe 0 para parar'))\n",
    "    lista.append(numero)\n",
    "    media = sum(lista) / len(lista)\n",
    "print('La media es: ', media)"
   ]
  },
  {
   "cell_type": "markdown",
   "metadata": {
    "collapsed": true,
    "id": "ADomql0N5syo"
   },
   "source": [
    "## Ejercicio 5\n",
    "\n",
    "Diseñar un algoritmo que calcula e imprime la suma de los números pares comprendidos entre 2 y 100.\n",
    "\n"
   ]
  },
  {
   "cell_type": "code",
   "execution_count": 8,
   "metadata": {
    "id": "wM4zVNCM5syo"
   },
   "outputs": [
    {
     "name": "stdout",
     "output_type": "stream",
     "text": [
      "2550\n"
     ]
    }
   ],
   "source": [
    "suma = 0\n",
    "for i in range(2, 101):\n",
    "    if i % 2 == 0:\n",
    "        suma+=i\n",
    "\n",
    "print(suma)"
   ]
  },
  {
   "cell_type": "markdown",
   "metadata": {
    "collapsed": true,
    "id": "5aTCP8gr5syp"
   },
   "source": [
    "## Ejercicio 6\n",
    "\n",
    "Diseñar un algoritmo que dado tres números, determinar si la suma de cualquier pareja de ellos es igual al tercer número. Si se cumple esta condición deberá imprimir la palabra ''iguales'', sino ''distintos''.\n"
   ]
  },
  {
   "cell_type": "code",
   "execution_count": 9,
   "metadata": {
    "id": "z5gLjvu85syq"
   },
   "outputs": [
    {
     "name": "stdout",
     "output_type": "stream",
     "text": [
      "Son distintos\n"
     ]
    }
   ],
   "source": [
    "a = int(input('Ingrese un numero'))\n",
    "b = int(input('Ingrese otro numero'))\n",
    "c = int(input('Ingrese otro numero'))\n",
    "\n",
    "if a + b == c:\n",
    "    print('Son iguales')\n",
    "elif a + c == c:\n",
    "\n",
    "    print('Son iguales')\n",
    "elif b + c == c:\n",
    "    print('Son iguales')\n",
    "\n",
    "else:\n",
    "    print('Son distintos')"
   ]
  },
  {
   "cell_type": "markdown",
   "metadata": {
    "collapsed": true,
    "id": "ly0xScSy5syq"
   },
   "source": [
    "## Ejercicio 7\n",
    "\n",
    "Diseñar un algoritmo que pida al usuario el ingreso de un horario, expresado en horas, minutos y segundos e indique la diferencia entre el horario ingresado y la hora actual en horas, minutos y segundos.\n"
   ]
  },
  {
   "cell_type": "code",
   "execution_count": null,
   "metadata": {
    "id": "P9MJ1w_u5syq"
   },
   "outputs": [
    {
     "ename": "TypeError",
     "evalue": "unsupported operand type(s) for -: 'str' and 'str'",
     "output_type": "error",
     "traceback": [
      "\u001b[0;31m---------------------------------------------------------------------------\u001b[0m",
      "\u001b[0;31mTypeError\u001b[0m                                 Traceback (most recent call last)",
      "Cell \u001b[0;32mIn[2], line 16\u001b[0m\n\u001b[1;32m     13\u001b[0m minutos_actual \u001b[38;5;241m=\u001b[39m time\u001b[38;5;241m.\u001b[39mstrftime(\u001b[38;5;124m\"\u001b[39m\u001b[38;5;124m%\u001b[39m\u001b[38;5;124mM:\u001b[39m\u001b[38;5;124m\"\u001b[39m, ahora)\n\u001b[1;32m     14\u001b[0m segundos_actual \u001b[38;5;241m=\u001b[39m  time\u001b[38;5;241m.\u001b[39mstrftime(\u001b[38;5;124m\"\u001b[39m\u001b[38;5;124m%\u001b[39m\u001b[38;5;124mS:\u001b[39m\u001b[38;5;124m\"\u001b[39m, ahora)\n\u001b[0;32m---> 16\u001b[0m calculo \u001b[38;5;241m=\u001b[39m hora_actual \u001b[38;5;241m-\u001b[39m hora\n\u001b[1;32m     17\u001b[0m calculo_minutos \u001b[38;5;241m=\u001b[39m minutos_actual\u001b[38;5;241m-\u001b[39mminutos\n\u001b[1;32m     20\u001b[0m \u001b[38;5;28mprint\u001b[39m(\u001b[38;5;124mf\u001b[39m\u001b[38;5;124m\"\u001b[39m\u001b[38;5;124mLa diferencia entre el tiempo ingresado y el actual\u001b[39m\u001b[38;5;124m\"\u001b[39m)\n",
      "\u001b[0;31mTypeError\u001b[0m: unsupported operand type(s) for -: 'str' and 'str'"
     ]
    }
   ],
   "source": [
    "# Usar time.\n",
    "import time\n",
    "\n",
    "ahora = time.localtime()\n",
    "\n",
    "\n",
    "hora = int(input('Ingrese la hora'))\n",
    "minutos = int(input('Ingrese los minutos'))\n",
    "segundos = int(input('Ingrese los segundos'))\n",
    "\n",
    "\n",
    "hora_actual = time.strftime(\"%H:\", ahora)\n",
    "minutos_actual = time.strftime(\"%M:\", ahora)\n",
    "segundos_actual =  time.strftime(\"%S:\", ahora)\n",
    "\n",
    "calculo = hora_actual - hora\n",
    "calculo_minutos = minutos_actual-minutos\n",
    "calculo_segundos = minutos_segundos-minutos\n",
    "\n",
    "\n",
    "print(f\"La diferencia entre el tiempo ingresado y el actual\")"
   ]
  },
  {
   "cell_type": "markdown",
   "metadata": {
    "collapsed": true,
    "id": "w_opE4su5syq"
   },
   "source": [
    "## Ejercicio 8\n",
    "\n",
    "Escribir las sentencias condicionales para calcular:\n",
    "\n",
    "- a) $ x =  x - 5 ~ \\textrm{ si } ~a > b $\n",
    "\n",
    "\n",
    "- b) $  x = \\left\\{ \\begin{array}{ll} -8 & & \\textrm{si} ~a > b \\\\ 1  & & \\textrm{si} ~a <= b \\end{array} \\right. $\n",
    "        \n",
    "- c) $  x =  \\left\\{ \\begin{array}{ll} 1 & \\textrm{si} ~n > 5\\\\  0 & \\textrm{si} ~n = 5\\\\ -1 & \\textrm{si} ~n < 5 \\end{array} \\right. $\n",
    "        \n",
    "        \n",
    "- d)  $ t =  \\left\\{ \\begin{array}{llr} 1 & \\textrm{si} ~x > a\\\\  3 & \\textrm{si} ~a <= x <= b & \\textrm{para}~a<b<c\\\\ 5 & \\textrm{si} ~b < x <= c\\\\ -4 & \\textrm{si} ~c < x   \\end{array} \\right. $"
   ]
  },
  {
   "cell_type": "code",
   "execution_count": null,
   "metadata": {
    "id": "S0QEXz0s5syr"
   },
   "outputs": [],
   "source": [
    "# A \n",
    "x = int(input('Ingrese un numero'))\n",
    "\n",
    "if a > b:\n",
    "    x = x -5 \n",
    "\n",
    "# B\n",
    "a = int(input(\"Ingrese el valor de a: \"))\n",
    "b = int(input(\"Ingrese el valor de b: \"))\n",
    "\n",
    "if a > b:\n",
    "    x = -8\n",
    "else:\n",
    "    x = 1\n",
    "\n",
    "\n",
    "# C\n",
    "\n",
    "n = int(input('Ingrese un numero'))\n",
    "\n",
    "\n",
    "if n > 5:\n",
    "    x = 1\n",
    "elif n == 5:\n",
    "    x = 0\n",
    "elif n < 5:\n",
    "    x = -1\n",
    "\n",
    "\n",
    "# D\n",
    "\n",
    "x = int(input('Ingrese un numero'))\n",
    "\n",
    "if x > a:\n",
    "    x = 1\n",
    "\n",
    "elif a<=x<=b:\n",
    "    x = 3\n",
    "elif a < b < c:\n",
    "    x = 3\n",
    "elif b < x <= c:\n",
    "    x = 5\n",
    "elif c < x:\n",
    "    x = -4\n",
    "    \n"
   ]
  },
  {
   "cell_type": "markdown",
   "metadata": {
    "id": "Lq3QbZvR5syr"
   },
   "source": [
    "## Ejercicio  9\n",
    "\n",
    "Se necesita realizar un programa para asistir a un empleado de un Cine (o Teatro). El empleado esta encargado de enviar a las personas a la sala correcta.\n",
    "\n",
    "Una vez comprada la entrada la audiencia se dirige al empleado, el cual, en base al número que figura en la entrada (3 dígitos) los envía a la sala correspondiente.\n",
    "Si la entrada es par, el empleado los dirige a la Sala 1. Cuando la entrada es impar los dirige a la sala 2.\n",
    "\n",
    "Recientemente, por un error en la impresión de las entradas han salido muchas con el número $000$, en este caso el empleado debe comunicarle al usuario que se dirija a la administraci\\'on para obtener una nueva entrada.\n"
   ]
  },
  {
   "cell_type": "code",
   "execution_count": null,
   "metadata": {
    "id": "Ri3mxI1A5syr"
   },
   "outputs": [],
   "source": [
    "numero = input(\"Ingrese 3 dígitos: \")\n",
    "\n",
    "if numero == \"000\":\n",
    "    print('Debe ir a administracion')\n",
    "\n",
    "else:\n",
    "    numero = int(numero)   # acá sí lo convertimos a entero\n",
    "\n",
    "    if numero % 2 == 0:\n",
    "        print('Se dirige a la sala 1')\n",
    "\n",
    "    elif numero % 2 == 1:\n",
    "        print('Se dirige a la sala 2')"
   ]
  },
  {
   "cell_type": "markdown",
   "metadata": {
    "id": "31W7Ockn5syr"
   },
   "source": [
    "## Ejercicio 10\n",
    "\n",
    "Un empleado trabaja en la mesa de entradas de una organización. Le llegan expedientes de otras dependencias, los cuales debera depositar en $10$ buzones distintos dependiendo del \"codigo de expediente\" .\n",
    "\n",
    "Los expedientes están codificados con números de $1$ (uno) dígito. La forma de agrupación es la siguiente: los expedientes $0$ serán depositados en el buzón $A$, los $1$, serán depositados en el buzón $B$, y así sucesivamente hasta el buzón $J$.\n"
   ]
  },
  {
   "cell_type": "code",
   "execution_count": null,
   "metadata": {
    "id": "DpKY33m65sys"
   },
   "outputs": [],
   "source": [
    "for i in range(0,10):\n",
    "    expediente = int(input('Ingrese el deposito del 1 al 9'))\n",
    "    if expediente == 0:\n",
    "        print('Se deposita en A')\n",
    "    elif expediente == 1:\n",
    "        print('Se deposita en B')\n",
    "    elif expediente == 2:\n",
    "        print('Se deposita en C')\n",
    "    elif expediente == 3:\n",
    "        print('Se deposita en D')\n",
    "    elif expediente == 4:\n",
    "        print('Se deposita en E')\n",
    "    elif expediente == 5:\n",
    "        print('Se deposita en F')\n",
    "    elif expediente == 6:\n",
    "        print('Se deposita en G')\n",
    "    elif expediente == 7:\n",
    "        print('Se deposita en H')\n",
    "    elif expediente == 8:\n",
    "        print('Se deposita en I')\n",
    "    elif expediente == 9:\n",
    "        print('Se deposita en J')"
   ]
  },
  {
   "cell_type": "code",
   "execution_count": null,
   "metadata": {},
   "outputs": [],
   "source": [
    "# Forma mas optima\n",
    "\n",
    "buzones = [\"A\",\"B\",\"C\",\"D\",\"E\",\"F\",\"G\",\"H\",\"I\",\"J\"]\n",
    "for i in range(0,10):\n",
    "    expediente = int(input(\"Ingrese el depósito del 0 al 9: \"))\n",
    "    print(\"Se deposita en\", buzones[expediente])"
   ]
  },
  {
   "cell_type": "markdown",
   "metadata": {
    "collapsed": true,
    "id": "zWnoSkNS5sys"
   },
   "source": [
    "## Ejercicio 11\n",
    "\n",
    "Diseñar un algoritmo que pida el total de kilometros recorridos, el precio de la gasolina (por litro), el dinero de gasolina gastado en el viaje y el tiempo que se ha tardado (en horas y minutos) y que calcule:\n",
    "\n",
    "- a)    Consumo de gasolina (en litros y pesos) por cada 100 km.\n",
    "\n",
    "- b)    Consumo de gasolina (en litros y pesos) por cada km.\n",
    "    \n",
    "- c)    Velocidad media (en km/h y m/s).\n",
    "   "
   ]
  },
  {
   "cell_type": "code",
   "execution_count": null,
   "metadata": {
    "id": "dXGcQn385sys"
   },
   "outputs": [],
   "source": [
    "kilometros_recorridos = int(input('Ingrese el total de km recorridos'))\n",
    "precio_de_gasolina_por_litro = int(input('Ingrese el precio de la gasolina por litro'))\n",
    "dinero_gastado_gasolina = int(input('Ingrese el dinero de gasolina gastado en el viaje'))\n",
    "litros =  dinero_gastado_gasolina / precio_de_gasolina_por_litro\n",
    "horas = int(input('Ingrese el número de horas: '))\n",
    "minutos = int(input('Ingrese el número de minutos: '))\n",
    "\n",
    "# A\n",
    "# Litros\n",
    "consumo_100km = litros / precio_de_gasolina_por_litro * 100\n",
    "\n",
    "# Pesos\n",
    "\n",
    "consumo_100km_pesos = dinero_gastado_gasolina / precio_de_gasolina_por_litro * 100\n",
    "\n",
    "\n",
    "# B por cada l,\n",
    "consumo_1km = litros / precio_de_gasolina_por_litro * 1\n",
    "\n",
    "# Pesos\n",
    "consumo_1km_pesos = dinero_gastado_gasolina / precio_de_gasolina_por_litro * 1\n",
    "\n",
    "\n",
    "# C Velocidad Media\n",
    "\n",
    "# KM/H\n",
    "tiempo_total_horas = horas + (minutos / 60)\n",
    "Velocidad_media = kilometros_recorridos / tiempo_total_horas\n",
    "\n",
    "# M/S\n",
    "\n",
    "metros = kilometros_recorridos * 1000\n",
    "segundos = tiempo_total_horas * 3600\n",
    "\n",
    "Velocidad_media_m_s = metros / segundos\n",
    "\n"
   ]
  },
  {
   "cell_type": "markdown",
   "metadata": {
    "collapsed": true,
    "id": "Hr0yT6fr5sys"
   },
   "source": [
    "## Ejercicio 12\n",
    "\n",
    "Escribir los algoritmos que permiten generar las siguientes salidas usando un ciclo <code>for</code> o <code>while</code>.\n",
    "\n",
    "**Nota:** en la siguiente salida el carácter '\\_' es un espacio en blanco.\n",
    "\n",
    "<img src=\"https://drive.google.com/uc?id=17k1t9_w7yn9BONkEoS45j09VCzlbnLkZ\" width=\"600px\" />\n",
    "\n",
    "![](img/ejercicio.png)"
   ]
  },
  {
   "cell_type": "code",
   "execution_count": null,
   "metadata": {
    "id": "WdztXcQj5sys"
   },
   "outputs": [],
   "source": []
  },
  {
   "cell_type": "markdown",
   "metadata": {
    "id": "a6IpkUMw5sys"
   },
   "source": [
    "## Ejercicio 13\n",
    "\n",
    "Desarrollar un algoritmo el cual dado un conjunto de números enteros, escribir aquellos que sean divisibles por $I$.\n"
   ]
  },
  {
   "cell_type": "code",
   "execution_count": 3,
   "metadata": {
    "id": "kuZ3vQvO5sys"
   },
   "outputs": [
    {
     "name": "stdout",
     "output_type": "stream",
     "text": [
      "El número 3 es divisible por 3\n"
     ]
    }
   ],
   "source": [
    "conjunto = {1, 2, 3, 4, 5}\n",
    "i = int(input('Ingrese el numero que quieras definir como I'))\n",
    "\n",
    "for x in conjunto:\n",
    "    if x % i == 0:\n",
    "        print(f\"El número {x} es divisible por {i}\")\n",
    "    else:\n",
    "        pass"
   ]
  },
  {
   "cell_type": "markdown",
   "metadata": {
    "id": "Sb5Mm0285syu"
   },
   "source": [
    "## Ejercicio 14\n",
    "\n",
    "Desarrolle un programa que se le ingrese una cierta cantidad de dinero (en pesos y entera) y devuelva la menor cantidad de billetes de 100, 50, 20, 10, 5, 2 y monedas de 1 posibles.\n"
   ]
  },
  {
   "cell_type": "code",
   "execution_count": null,
   "metadata": {},
   "outputs": [
    {
     "name": "stdout",
     "output_type": "stream",
     "text": [
      "3 billetes/monedas de 100\n",
      "6 billetes/monedas de 50\n",
      "15 billetes/monedas de 20\n",
      "30 billetes/monedas de 10\n",
      "60 billetes/monedas de 5\n",
      "150 billetes/monedas de 2\n",
      "300 billetes/monedas de 1\n"
     ]
    }
   ],
   "source": [
    "dinero = [100, 50, 20, 10, 5, 2, 1]\n",
    "monto = int(input('Ingrese un monto'))\n",
    "\n",
    "for x in dinero:\n",
    "    dinero_aux = monto // x\n",
    "    restante = monto % x\n",
    "    print(f\"{dinero_aux} billetes/monedas de {x}\")\n"
   ]
  },
  {
   "cell_type": "markdown",
   "metadata": {
    "id": "-2K1nfig5syu"
   },
   "source": [
    "## Ejercicio 15\n",
    "\n",
    "Desarrollar un programa que convierta una cantidad entera de segundos al formato \"HORAS:MINUTOS:SEGUNDOS\".\n"
   ]
  },
  {
   "cell_type": "code",
   "execution_count": 5,
   "metadata": {
    "id": "_Nx3KEHT5syv"
   },
   "outputs": [
    {
     "name": "stdout",
     "output_type": "stream",
     "text": [
      "01:00:00\n"
     ]
    }
   ],
   "source": [
    "segundos = int(input('Ingrese la cantidad total en segundos'))\n",
    "\n",
    "horas = segundos // 3600\n",
    "\n",
    "restantes = segundos % 3600\n",
    "\n",
    "minutos = restantes // 60\n",
    "\n",
    "segundos_restante = restantes % 60\n",
    "\n",
    "print(f\"{horas:02d}:{minutos:02d}:{segundos_restante:02d}\")"
   ]
  },
  {
   "cell_type": "markdown",
   "metadata": {
    "id": "NNJYwbOn5syv"
   },
   "source": [
    "## Ejercicio 16\n",
    "\n",
    "Desarrollar un programa que pida ingresar un número entero por teclado estrictamente mayor a 1 y devuelva su mayor divisor que sea distinto de el."
   ]
  },
  {
   "cell_type": "code",
   "execution_count": 19,
   "metadata": {
    "id": "-ymH7eV35syv"
   },
   "outputs": [
    {
     "name": "stdout",
     "output_type": "stream",
     "text": [
      "5\n"
     ]
    }
   ],
   "source": [
    "n = int(input('Ingrese un numero'))\n",
    "\n",
    "for x in range(n-1 ,0, -1):\n",
    "    if n % x == 0:\n",
    "        print(x)\n",
    "        break"
   ]
  },
  {
   "cell_type": "markdown",
   "metadata": {
    "id": "4G9ZoJiO5syv"
   },
   "source": [
    "## Ejercicio 17\n",
    "\n",
    "Desarrollar un programa que pida ingresar un número entero por teclado estrictamente mayor a 1 y devuelva todos los divisores de ese número.\n",
    "    "
   ]
  },
  {
   "cell_type": "code",
   "execution_count": null,
   "metadata": {
    "id": "EQ8iFGKL5syv"
   },
   "outputs": [],
   "source": [
    "n = int(input('Ingrese un numero'))\n",
    "\n",
    "for x in range(n-1 ,0, -1):\n",
    "    if n % x == 0:\n",
    "        print(x)"
   ]
  },
  {
   "cell_type": "markdown",
   "metadata": {
    "id": "HjSliKp95syw"
   },
   "source": [
    "## Ejercicio 18\n",
    "\n",
    "Desarrolle un programa que permita saber si un número ingresado por teclado es par (positivo y negativo) o impar (positivo y negativo).\n"
   ]
  },
  {
   "cell_type": "code",
   "execution_count": null,
   "metadata": {
    "id": "-R8e9mqX5syw"
   },
   "outputs": [],
   "source": [
    "numero = int(input('Ingrese un numero'))\n",
    "if numero % 2 == 0:\n",
    "    print('Es par')\n",
    "    if numero >0:\n",
    "        print('El numero es positivo')\n",
    "    elif numero <0:\n",
    "        print('El numero es negativo')\n",
    "elif numero % 2 == 1:\n",
    "    print('Es impar')\n",
    "    if numero >0:\n",
    "        print('El numero es positivo')\n",
    "    elif numero <0:\n",
    "        print('El numero es negativo')\n",
    "       "
   ]
  },
  {
   "cell_type": "markdown",
   "metadata": {
    "id": "kqElt1j05syw"
   },
   "source": [
    "## Ejercicio 19\n",
    "\n",
    "Desarrollar un algoritmo que diga si un número ingresado es abundante.\n",
    "\n",
    "**Nota:** usar Google o Wikipedia para saber que es un número abundante.\n"
   ]
  },
  {
   "cell_type": "code",
   "execution_count": 32,
   "metadata": {
    "id": "mAF_Ex5e5syx"
   },
   "outputs": [
    {
     "name": "stdout",
     "output_type": "stream",
     "text": [
      "El numero es abundante\n"
     ]
    }
   ],
   "source": [
    "n = int(input('Ingrese un numero: '))\n",
    "suma = 0\n",
    "for i in range(1, n):\n",
    "    if n % i == 0:\n",
    "        suma+=i\n",
    "\n",
    "if suma > n:\n",
    "    print('El numero es abundante')"
   ]
  },
  {
   "cell_type": "markdown",
   "metadata": {
    "id": "v4xwI5QC5sy2"
   },
   "source": [
    "## Ejercicio 20\n",
    "\n",
    "Ídem anterior, pero para un conjunto de números de entrada. El algoritmo para cuando el número ingresado es igual a 0.\n"
   ]
  },
  {
   "cell_type": "code",
   "execution_count": null,
   "metadata": {
    "id": "9sE0biL45sy2"
   },
   "outputs": [
    {
     "name": "stdout",
     "output_type": "stream",
     "text": [
      "El número 12 es abundante\n"
     ]
    }
   ],
   "source": [
    "entrada = input('Ingrese numeros separados por espacios: ')\n",
    "numeros = [int(x) for x in entrada.split()]\n",
    "for i in numeros:\n",
    "    suma = 0\n",
    "    for x in range(1, i):\n",
    "        if i % x == 0:\n",
    "            suma+=x\n",
    "    if suma > i:\n",
    "        print(f'El número {i} es abundante')\n"
   ]
  },
  {
   "cell_type": "markdown",
   "metadata": {
    "id": "-NuqqM3l5sy2"
   },
   "source": [
    "## Ejercicio 21\n",
    "\n",
    "  Desarrollar un algoritmo para, dado un número natural, determinar si es defectivo.\n",
    "  \n",
    "  **Nota:** usar Google o Wikipedia para saber que es un n\\'umero defectivo."
   ]
  },
  {
   "cell_type": "code",
   "execution_count": 40,
   "metadata": {
    "id": "Zp6ISeTa5sy3"
   },
   "outputs": [
    {
     "name": "stdout",
     "output_type": "stream",
     "text": [
      "El numero es defectivo\n"
     ]
    }
   ],
   "source": [
    "# Un defectivo viene a hacer cuando los divisores propios son menos que el numero dado.\n",
    "\n",
    "n = int(input('Ingrese un numero: '))\n",
    "suma = 0\n",
    "for i in range(1, n):\n",
    "    if n % i == 0:\n",
    "        suma+=i\n",
    "\n",
    "if suma < n:\n",
    "    print('El numero es defectivo')"
   ]
  },
  {
   "cell_type": "markdown",
   "metadata": {
    "id": "A-to0RHx5sy3"
   },
   "source": [
    "## Ejercicio 22\n",
    "\n",
    "Desarrollar un algoritmo para encontrar los n\\'umeros perfectos entre 1 y $N$."
   ]
  },
  {
   "cell_type": "code",
   "execution_count": 41,
   "metadata": {
    "id": "0h5kdt_h5sy3"
   },
   "outputs": [
    {
     "name": "stdout",
     "output_type": "stream",
     "text": [
      "El numero es un numero perfecto\n"
     ]
    }
   ],
   "source": [
    "# Un numero perfecto viene a hacer cuando la suma de los divisores propios es lo mismo que el numero dado.\n",
    "\n",
    "n = int(input('Ingrese un numero: '))\n",
    "suma = 0\n",
    "for i in range(1, n):\n",
    "    if n % i == 0:\n",
    "        suma+=i\n",
    "\n",
    "if suma == n:\n",
    "    print('El numero es un numero perfecto')"
   ]
  }
 ],
 "metadata": {
  "colab": {
   "provenance": []
  },
  "kernelspec": {
   "display_name": "Python 3",
   "language": "python",
   "name": "python3"
  },
  "language_info": {
   "codemirror_mode": {
    "name": "ipython",
    "version": 3
   },
   "file_extension": ".py",
   "mimetype": "text/x-python",
   "name": "python",
   "nbconvert_exporter": "python",
   "pygments_lexer": "ipython3",
   "version": "3.13.7"
  }
 },
 "nbformat": 4,
 "nbformat_minor": 0
}
