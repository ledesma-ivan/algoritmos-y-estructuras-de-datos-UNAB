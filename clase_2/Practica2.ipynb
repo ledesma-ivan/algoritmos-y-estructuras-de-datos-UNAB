{
  "cells": [
    {
      "cell_type": "markdown",
      "metadata": {
        "id": "OIZBAf_Zxiuq"
      },
      "source": [
        "# Algoritmos y Estructuras de Datos.\n",
        "\n",
        "## Practica - Clase 2 - Funciones  -"
      ]
    },
    {
      "cell_type": "markdown",
      "metadata": {
        "id": "tear04Ugxiur"
      },
      "source": [
        "Implementar una función **recursiva** que retorne la suma de los primeros $\\textit{n}$ números."
      ]
    },
    {
      "cell_type": "code",
      "execution_count": null,
      "metadata": {
        "id": "zArhuE1qxius"
      },
      "outputs": [],
      "source": []
    },
    {
      "cell_type": "markdown",
      "metadata": {
        "id": "cZDcOXW8xius"
      },
      "source": [
        "Implementar una función **iterativa** que retorne la suma de los primeros $\\textit{n}$ números."
      ]
    },
    {
      "cell_type": "code",
      "execution_count": null,
      "metadata": {
        "id": "FIHe1YOExius"
      },
      "outputs": [],
      "source": []
    },
    {
      "cell_type": "markdown",
      "metadata": {
        "id": "P5qdyw_axius"
      },
      "source": [
        "Implementar una función **recursiva** que reciba como parametro una lista de números enteros y retorne el maximo."
      ]
    },
    {
      "cell_type": "code",
      "execution_count": null,
      "metadata": {
        "id": "_tPKngFXxiut"
      },
      "outputs": [],
      "source": []
    },
    {
      "cell_type": "markdown",
      "metadata": {
        "id": "eDry7xw9xiut"
      },
      "source": [
        "Escribir un programa que, dado un número entero $k$, retorne el indice de la primer ocurrencia del número 1, en la secuencia de Siracusa generada con el parametro $k$. Es decir, la cantidad de pasos necesarios para que la serie converja a su punto fijo.  \n",
        "\n",
        "La secuencia de Siracusa: \\\\\n",
        "- El primer termino es $s_0=k$, y los terminos siguentes ($s_i$) se calculan con la siguiente formula:\n",
        " - (i) si el termino $k_i$ es par, dividimos por 2: $\\frac{k}{2}$;\n",
        " - (ii) si el termino $k_i$ es impar, multiplicamos por 3 y sumamos 1: $(3 k + 1)$. \\\\\n",
        "\n",
        "$s_{n+1} = \\left\\lbrace\\begin{array}{l} \\dfrac{s_{n}}{2}  &\\texttt{si } n \\texttt{ es par}\\\\\n",
        "3 s_{n} + 1  &\\texttt{si } n \\texttt{ es impar}\\end{array}\\right.$\n",
        "\n",
        "La secuencia para cuando obtenemos el numero $1$, ya que desde ese punto se repite.\n",
        "**Ejemplo:** para $k=1$, $k=2$, o $k=4$. La secuencia de Siracusa sera: [4, 2, 1].\n",
        "\n"
      ]
    },
    {
      "cell_type": "code",
      "execution_count": null,
      "metadata": {
        "id": "pgIiillnxiuu"
      },
      "outputs": [],
      "source": []
    }
  ],
  "metadata": {
    "colab": {
      "provenance": []
    },
    "kernelspec": {
      "display_name": "Python 3",
      "language": "python",
      "name": "python3"
    },
    "language_info": {
      "codemirror_mode": {
        "name": "ipython",
        "version": 3
      },
      "file_extension": ".py",
      "mimetype": "text/x-python",
      "name": "python",
      "nbconvert_exporter": "python",
      "pygments_lexer": "ipython3",
      "version": "3.8.3"
    }
  },
  "nbformat": 4,
  "nbformat_minor": 0
}
