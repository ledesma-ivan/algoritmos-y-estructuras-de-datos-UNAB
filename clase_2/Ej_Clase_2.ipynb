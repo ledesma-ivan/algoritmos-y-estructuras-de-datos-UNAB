{
  "cells": [
    {
      "cell_type": "markdown",
      "metadata": {
        "pycharm": {
          "metadata": false
        },
        "id": "QqC8b1lqdUZU"
      },
      "source": [
        "# Ejercicios - Clase 2 -"
      ]
    },
    {
      "cell_type": "markdown",
      "metadata": {
        "pycharm": {
          "metadata": false
        },
        "id": "5rQifHZ_dUZW"
      },
      "source": [
        "## Modules"
      ]
    },
    {
      "cell_type": "code",
      "execution_count": null,
      "metadata": {
        "pycharm": {
          "is_executing": false,
          "metadata": false,
          "name": "#%%\n"
        },
        "id": "9UnNEkbZdUZW"
      },
      "outputs": [],
      "source": [
        "import numpy as np"
      ]
    },
    {
      "cell_type": "markdown",
      "metadata": {
        "pycharm": {
          "metadata": false
        },
        "id": "ZIKO8qRudUZY"
      },
      "source": [
        "## Ejercicios\n",
        "\n",
        "### Ej. 1:\n",
        "\n",
        "Escribir un programa que asisgne un elemento `e` en una lista, basado en un indice `i`. Si el indice esta fuera de rango, el programa debe manejar la excepción e imprimir el siguiente mensaje:\n",
        "\n",
        "`\"No pasarse de memoria!\"`"
      ]
    },
    {
      "cell_type": "code",
      "execution_count": null,
      "metadata": {
        "id": "3YP3mjKIdUZY"
      },
      "outputs": [],
      "source": []
    },
    {
      "cell_type": "markdown",
      "metadata": {
        "id": "0JtequnedUZZ"
      },
      "source": [
        "### Ej. 2:\n",
        "\n",
        "Escribir una función recursiva para encontrar el mayor elemento de una secuencia `S`, de cardinalidad `n`."
      ]
    },
    {
      "cell_type": "code",
      "execution_count": null,
      "metadata": {
        "id": "OaxOQF_KdUZZ"
      },
      "outputs": [],
      "source": []
    },
    {
      "cell_type": "markdown",
      "metadata": {
        "id": "i75WkESsdUZa"
      },
      "source": [
        "### Ej. 3:\n",
        "\n",
        "Escribir una función **minmax(data)**, la cuál contiene una secuencia (no vacía) de números, y debe retornar, el menor y el mayor elemento, en forma de una *tupla* de longitud 2, es decir una tupla con dos elementos.  "
      ]
    },
    {
      "cell_type": "code",
      "execution_count": null,
      "metadata": {
        "id": "7i83e26mdUZb"
      },
      "outputs": [],
      "source": [
        "def minmax(data):\n",
        "  # if len(data) == 0:\n",
        "  #   return data[0]\n",
        "  #\n",
        "  ## if data[0] < minmax(data[1:]):\n",
        "  #   return max(data[0], minmax(data[1:]))\n",
        "  return menor,mayor"
      ]
    },
    {
      "cell_type": "markdown",
      "metadata": {
        "pycharm": {},
        "id": "WaNz7UgGdUZc"
      },
      "source": [
        "### Ej. 4:\n",
        "\n",
        "Torres de Hanoi: https://es.wikipedia.org/wiki/Torres_de_Han%C3%B3i\n",
        "\n",
        "En el juego de las *Torres de Hanoi*, tenemos 3 postes `a`, `b` y `c` sobre una base de soporte. En el poste `a` hay una pila de `n` discos, cada uno de diametro mayor al siguiente, con el disco de mayor diametro debajo. El juego consiste en pasar todos los discos desde el poste `a` al poste `c`, moviendo de a un disco, los discos solo pueden ser pasados a un poste que contiene un disco de mayor diametro. Escriba una función recursiva para resolver el juego para un número arbitrario `n`.       "
      ]
    },
    {
      "cell_type": "code",
      "execution_count": null,
      "metadata": {
        "id": "0rXxAIsHdUZc"
      },
      "outputs": [],
      "source": []
    },
    {
      "cell_type": "markdown",
      "metadata": {
        "pycharm": {},
        "id": "KbcmTbIJdUZd"
      },
      "source": [
        "### Ej. 5:\n",
        "\n",
        "Escribir una función recursiva para determinar si un string tiene mas vocales que consonantes."
      ]
    },
    {
      "cell_type": "code",
      "execution_count": null,
      "metadata": {
        "id": "AckkkXvddUZd"
      },
      "outputs": [],
      "source": []
    },
    {
      "cell_type": "markdown",
      "metadata": {
        "id": "IP_sfrewdUZd"
      },
      "source": [
        "### Ej. 6:\n",
        "\n",
        "La siguiente función utiliza manejo de errores anidados. Cuál es el resultado de `a(0)`? Cuáles bloques `finally` serán ejecutados?"
      ]
    },
    {
      "cell_type": "code",
      "execution_count": null,
      "metadata": {
        "id": "HF5VpzjldUZe"
      },
      "outputs": [],
      "source": []
    }
  ],
  "metadata": {
    "kernelspec": {
      "display_name": "Python 3",
      "language": "python",
      "name": "python3"
    },
    "language_info": {
      "codemirror_mode": {
        "name": "ipython",
        "version": 3
      },
      "file_extension": ".py",
      "mimetype": "text/x-python",
      "name": "python",
      "nbconvert_exporter": "python",
      "pygments_lexer": "ipython3",
      "version": "3.8.3"
    },
    "stem_cell": {
      "cell_type": "raw",
      "metadata": {
        "pycharm": {
          "metadata": false
        }
      },
      "source": ""
    },
    "colab": {
      "provenance": []
    }
  },
  "nbformat": 4,
  "nbformat_minor": 0
}